{
 "cells": [
  {
   "cell_type": "markdown",
   "metadata": {},
   "source": [
    "# Python Insights - Analisando Dados com Python\n",
    "\n",
    "### Case - Cancelamento de Clientes\n",
    "\n",
    "Você foi contratado por uma empresa com mais de 800 mil clientes para um projeto de Dados. Recentemente a empresa percebeu que da sua base total de clientes, a maioria são clientes inativos, ou seja, que já cancelaram o serviço.\n",
    "\n",
    "Precisando melhorar seus resultados ela quer conseguir entender os principais motivos desses cancelamentos e quais as ações mais eficientes para reduzir esse número.\n",
    "\n",
    "Base de dados e arquivos: https://drive.google.com/drive/folders/1uDesZePdkhiraJmiyeZ-w5tfc8XsNYFZ?usp=drive_link"
   ]
  },
  {
   "cell_type": "code",
   "execution_count": null,
   "metadata": {},
   "outputs": [],
   "source": [
    "# Passo a passo do projeto:\n",
    "# Passo 1: Importar a base de dados\n",
    "\n",
    "import pandas\n",
    "\n",
    "tabela = pandas.read_csv(\"cancelamentos.csv\")\n",
    "\n",
    "# Passo 2: Visualizar a base de dados\n",
    "# Linha: axis = 0\n",
    "# Coluna: axis = 1\n",
    "tabela = tabela.drop(\"CustomerID\", axis=1)\n",
    "# Remove a coluna de ID do cliente (dado indiferente para análise)\n",
    "display(tabela)\n"
   ]
  },
  {
   "cell_type": "code",
   "execution_count": null,
   "metadata": {},
   "outputs": [],
   "source": [
    "# Passo 3: Tratamento de erros (resolver erros da base de dados)\n",
    "display(tabela.info())\n",
    "# tratar valores vazios\n",
    "tabela = tabela.dropna()\n",
    "display(tabela.info())\n"
   ]
  },
  {
   "cell_type": "code",
   "execution_count": null,
   "metadata": {},
   "outputs": [],
   "source": [
    "# Passo 4: Análise inicial dos dados (entender os cancelamentos)\n",
    "display(tabela[\"cancelou\"].value_counts())\n",
    "# pra ver como porcentual, usar normalize=True dentro do counts: \n",
    "\n",
    "display(tabela[\"cancelou\"].value_counts(normalize=True).map(\"{:.1%}\".format))\n",
    "\n"
   ]
  },
  {
   "cell_type": "code",
   "execution_count": null,
   "metadata": {},
   "outputs": [],
   "source": [
    "display(tabela[\"duracao_contrato\"].value_counts())\n",
    "display(tabela[\"duracao_contrato\"].value_counts(normalize=True).map(\"{:.1%}\".format))\n",
    "\n",
    "\n"
   ]
  },
  {
   "cell_type": "code",
   "execution_count": null,
   "metadata": {},
   "outputs": [],
   "source": [
    "\n",
    "display(tabela.groupby(\"duracao_contrato\").count())\n",
    "display(tabela.groupby(\"duracao_contrato\").mean(numeric_only=True))\n"
   ]
  },
  {
   "cell_type": "code",
   "execution_count": null,
   "metadata": {},
   "outputs": [],
   "source": [
    "# Contrato mensal sempre cancela\n",
    "\n",
    "tabela = tabela[tabela[\"duracao_contrato\"]!=\"Monthly\"]\n",
    "\n",
    "\n",
    "# Ver cancelamentos sem o mensal\n",
    "display(tabela[\"cancelou\"].value_counts())\n",
    "display(tabela[\"cancelou\"].value_counts(normalize=True).map(\"{:.1%}\".format))\n",
    "\n"
   ]
  },
  {
   "cell_type": "code",
   "execution_count": 8,
   "metadata": {},
   "outputs": [],
   "source": [
    "# Passo 5: Análise profunda da bd\n",
    "import plotly.express as px\n",
    "\n",
    "for coluna in tabela.columns:\n",
    "    grafico = px.histogram(tabela, x=coluna, color=\"cancelou\")\n",
    "    grafico.show()"
   ]
  },
  {
   "cell_type": "code",
   "execution_count": null,
   "metadata": {},
   "outputs": [],
   "source": [
    "# ligacoes call center a partir de 5, cancelam\n",
    "\n",
    "tabela = tabela[tabela[\"ligacoes_callcenter\"]<5]\n",
    "\n",
    "# dias de atraso a partir de 21, cancelam\n",
    "tabela = tabela[tabela[\"dias_atraso\"]<=20]\n",
    "\n",
    "\n",
    "# Ver cancelamentos sem o mensal\n",
    "display(tabela[\"cancelou\"].value_counts())\n",
    "display(tabela[\"cancelou\"].value_counts(normalize=True).map(\"{:.1%}\".format))\n",
    "\n"
   ]
  },
  {
   "cell_type": "code",
   "execution_count": null,
   "metadata": {},
   "outputs": [],
   "source": [
    "# Maiores motivos de cancelamento:\n",
    "    \n",
    "# Forma de pagamento Mensal;\n",
    "# Mais de 20 dias de atraso;\n",
    "# Mais de 5 Ligacoes do call center."
   ]
  }
 ],
 "metadata": {
  "kernelspec": {
   "display_name": "base",
   "language": "python",
   "name": "python3"
  },
  "language_info": {
   "codemirror_mode": {
    "name": "ipython",
    "version": 3
   },
   "file_extension": ".py",
   "mimetype": "text/x-python",
   "name": "python",
   "nbconvert_exporter": "python",
   "pygments_lexer": "ipython3",
   "version": "3.11.2"
  },
  "orig_nbformat": 4
 },
 "nbformat": 4,
 "nbformat_minor": 2
}
